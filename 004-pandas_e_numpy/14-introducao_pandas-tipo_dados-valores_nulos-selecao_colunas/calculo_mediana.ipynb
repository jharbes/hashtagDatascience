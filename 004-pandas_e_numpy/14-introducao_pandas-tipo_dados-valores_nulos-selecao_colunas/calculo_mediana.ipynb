{
 "cells": [
  {
   "cell_type": "code",
   "execution_count": 8,
   "metadata": {},
   "outputs": [
    {
     "data": {
      "text/plain": [
       "[1.9, 2.01, 1.92, 2.11, 2.09, 1.9, 1.91, 2.05, 1.84, 2.03, 1.94, 1.98]"
      ]
     },
     "metadata": {},
     "output_type": "display_data"
    },
    {
     "name": "stdout",
     "output_type": "stream",
     "text": [
      "mediana = 1.96\n",
      "Correta Letra C\n"
     ]
    }
   ],
   "source": [
    "import numpy as np\n",
    "\n",
    "lista_alturas=[1.90,2.01,1.92,2.11,2.09,1.90,1.91,2.05,1.84,2.03,1.94,1.98]\n",
    "# lista_alturas=sorted(lista_alturas)\n",
    "\n",
    "display(lista_alturas)\n",
    "\n",
    "lista_alturas=np.array(lista_alturas)\n",
    "\n",
    "print('mediana =',np.median(lista_alturas))\n",
    "print('Correta Letra C')"
   ]
  }
 ],
 "metadata": {
  "kernelspec": {
   "display_name": "Python 3",
   "language": "python",
   "name": "python3"
  },
  "language_info": {
   "codemirror_mode": {
    "name": "ipython",
    "version": 3
   },
   "file_extension": ".py",
   "mimetype": "text/x-python",
   "name": "python",
   "nbconvert_exporter": "python",
   "pygments_lexer": "ipython3",
   "version": "3.10.11"
  }
 },
 "nbformat": 4,
 "nbformat_minor": 2
}
